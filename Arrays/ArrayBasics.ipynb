{
 "cells": [
  {
   "cell_type": "code",
   "execution_count": 1,
   "metadata": {},
   "outputs": [
    {
     "name": "stdout",
     "output_type": "stream",
     "text": [
      "3\n",
      "3\n",
      "0\n",
      "100\n"
     ]
    }
   ],
   "source": [
    "# Creating an array\n",
    "arr = ['one', ' two', 'three']\n",
    "arr2 = [1, 2, 3]\n",
    "empty_arr = []\n",
    "empty_arr_ofshape = [0] * 100 # 100 0\n",
    "print(len(arr))\n",
    "print(len(arr2))\n",
    "print(len(empty_arr))\n",
    "print(len(empty_arr_ofshape))"
   ]
  },
  {
   "cell_type": "code",
   "execution_count": 2,
   "metadata": {},
   "outputs": [
    {
     "name": "stdout",
     "output_type": "stream",
     "text": [
      "one\n",
      " two\n",
      "three\n"
     ]
    }
   ],
   "source": [
    "# Accessing array values via index\n",
    "print(arr[0])\n",
    "print(arr[1])\n",
    "print(arr[2])\n",
    "#print(arr[3]) This will throw an error index out of bounds"
   ]
  },
  {
   "cell_type": "code",
   "execution_count": 3,
   "metadata": {},
   "outputs": [
    {
     "name": "stdout",
     "output_type": "stream",
     "text": [
      "New Number\n",
      " two\n",
      "three\n"
     ]
    }
   ],
   "source": [
    "# Modify array values via index\n",
    "arr[0] = \"New Number\"\n",
    "for item in arr:\n",
    "    print(item)"
   ]
  },
  {
   "cell_type": "code",
   "execution_count": 4,
   "metadata": {},
   "outputs": [
    {
     "name": "stdout",
     "output_type": "stream",
     "text": [
      "[78  5  7 41 90]\n"
     ]
    }
   ],
   "source": [
    "# Iterate over an array \n",
    "import numpy as np\n",
    "randnums = np.random.randint(1, 101, 5)\n",
    "print(randnums)"
   ]
  },
  {
   "cell_type": "code",
   "execution_count": 5,
   "metadata": {},
   "outputs": [
    {
     "name": "stdout",
     "output_type": "stream",
     "text": [
      "78 5 7 41 90 "
     ]
    }
   ],
   "source": [
    "for i in range(len(randnums)):\n",
    "    print(randnums[i], end=' ')"
   ]
  },
  {
   "cell_type": "code",
   "execution_count": 6,
   "metadata": {},
   "outputs": [
    {
     "name": "stdout",
     "output_type": "stream",
     "text": [
      "78 5 7 41 90 "
     ]
    }
   ],
   "source": [
    "# another way of iterating over an array \n",
    "for item in randnums:\n",
    "    print(item, end=' ')"
   ]
  },
  {
   "cell_type": "code",
   "execution_count": 7,
   "metadata": {},
   "outputs": [
    {
     "name": "stdout",
     "output_type": "stream",
     "text": [
      "['Dog', 'Dog', 'Dog']\n"
     ]
    }
   ],
   "source": [
    "# List Opperations\n",
    "# Repetition\n",
    "rep = [\"Dog\"] * 3\n",
    "print( rep)"
   ]
  },
  {
   "cell_type": "code",
   "execution_count": 8,
   "metadata": {},
   "outputs": [
    {
     "name": "stdout",
     "output_type": "stream",
     "text": [
      "[1, 2, 3]\n",
      "[4, 5, 6]\n",
      "[1, 2, 3, 4, 5, 6]\n"
     ]
    }
   ],
   "source": [
    "# Concateination\n",
    "cat1 = [1,2,3]\n",
    "cat2 = [4, 5, 6]\n",
    "cat3 = cat1 + cat2\n",
    "print(cat1)\n",
    "print(cat2)\n",
    "print(cat3)"
   ]
  },
  {
   "cell_type": "code",
   "execution_count": 9,
   "metadata": {},
   "outputs": [
    {
     "name": "stdout",
     "output_type": "stream",
     "text": [
      "True\n",
      "False\n"
     ]
    }
   ],
   "source": [
    "# Check if a item is present in a list or not (use the 'in' operator)\n",
    "print(3 in cat3)\n",
    "print(8 in cat3)"
   ]
  },
  {
   "cell_type": "code",
   "execution_count": 10,
   "metadata": {},
   "outputs": [
    {
     "name": "stdout",
     "output_type": "stream",
     "text": [
      "[79 47 77 25 66]\n",
      "[66 25 77 47 79]\n"
     ]
    }
   ],
   "source": [
    "# Reverse an array of N integers\n",
    "plan_arr = np.random.randint(1, 101, 5)\n",
    "print(plan_arr)\n",
    "lst_idx = len(plan_arr) - 1\n",
    "num_iter = len(plan_arr)//2 # This is you swap the first and last as the same time\n",
    "for i in range(0, num_iter):\n",
    "    temp = plan_arr[lst_idx]\n",
    "    plan_arr[lst_idx] = plan_arr[i] # move first index number to last number\n",
    "    plan_arr[i] = temp # move last nubmer to first number\n",
    "    lst_idx -=1\n",
    "\n",
    "print(plan_arr)\n",
    "\n"
   ]
  },
  {
   "cell_type": "code",
   "execution_count": 11,
   "metadata": {},
   "outputs": [
    {
     "name": "stdout",
     "output_type": "stream",
     "text": [
      "[43 65 86 60 35]\n",
      "[35 60 86 65 43]\n"
     ]
    }
   ],
   "source": [
    "# This can be done much easier with built in python code\n",
    "plan_arr = np.random.randint(1, 101, 5)\n",
    "print(plan_arr)\n",
    "rev_arr = plan_arr[::-1]\n",
    "print(rev_arr)"
   ]
  },
  {
   "cell_type": "code",
   "execution_count": 12,
   "metadata": {},
   "outputs": [
    {
     "name": "stdout",
     "output_type": "stream",
     "text": [
      "[1, 5, 8, 2]\n",
      "[2, 8, 5, 1]\n"
     ]
    }
   ],
   "source": [
    "# Simplest way to reverse a list\n",
    "# NOTE CANNOT BE A NUMPY ARRAY\n",
    "test_arr = [1,5,8,2]\n",
    "print(test_arr)\n",
    "test_arr.reverse()\n",
    "print(test_arr)"
   ]
  },
  {
   "cell_type": "code",
   "execution_count": null,
   "metadata": {},
   "outputs": [],
   "source": []
  }
 ],
 "metadata": {
  "kernelspec": {
   "display_name": "Python 3",
   "language": "python",
   "name": "python3"
  },
  "language_info": {
   "codemirror_mode": {
    "name": "ipython",
    "version": 3
   },
   "file_extension": ".py",
   "mimetype": "text/x-python",
   "name": "python",
   "nbconvert_exporter": "python",
   "pygments_lexer": "ipython3",
   "version": "3.7.3"
  }
 },
 "nbformat": 4,
 "nbformat_minor": 2
}
