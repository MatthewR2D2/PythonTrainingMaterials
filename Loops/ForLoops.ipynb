{
 "cells": [
  {
   "cell_type": "markdown",
   "metadata": {},
   "source": [
    "To run a operation a given number of times (repeating steps) thena for loop is a basic method for this. "
   ]
  },
  {
   "cell_type": "code",
   "execution_count": 1,
   "metadata": {},
   "outputs": [
    {
     "name": "stdout",
     "output_type": "stream",
     "text": [
      "0\n",
      "1\n",
      "2\n",
      "3\n",
      "4\n"
     ]
    }
   ],
   "source": [
    "# Most basic for loop\n",
    "# This will print out the numbers between 0 and 5\n",
    "# i starts at 0 unless otherwise initalized first\n",
    "# Note arrays in python start at 0 so it is common to let i be 0\n",
    "for i in range(0, 5):\n",
    "    print(i)"
   ]
  },
  {
   "cell_type": "code",
   "execution_count": 2,
   "metadata": {},
   "outputs": [
    {
     "name": "stdout",
     "output_type": "stream",
     "text": [
      "6\n",
      "N =6 of type:<class 'int'>\n",
      "1\n",
      "2\n",
      "6\n",
      "24\n",
      "120\n",
      "720\n"
     ]
    }
   ],
   "source": [
    "# Factoral numbers\n",
    "# Compute the factorial of n and print out the factorial\n",
    "n = int(input()) # As user for input\n",
    "print(\"N ={} of type:{}\".format(n, type(n)))\n",
    "factorial = 1 # Set to 1 as if it is 0 it will remain 0\n",
    "for i in range(1, n + 1): # start at on and go to n + 1\n",
    "    factorial *= i\n",
    "    print(factorial)"
   ]
  },
  {
   "cell_type": "code",
   "execution_count": 3,
   "metadata": {},
   "outputs": [
    {
     "name": "stdout",
     "output_type": "stream",
     "text": [
      "5\n",
      "* \n",
      "* * \n",
      "* * * \n",
      "* * * * \n",
      "* * * * * \n"
     ]
    }
   ],
   "source": [
    "# Printing triangles Not super useful but we will do it\n",
    "'''\n",
    "Results should be this\n",
    "*\n",
    "**\n",
    "***\n",
    "****\n",
    "*****\n",
    "'''\n",
    "# This will show how to use nested loops\n",
    "n = int(input())\n",
    "for i in range(1, n + 1): # put 1 so it will alway print a *\n",
    "    for j in range(i):\n",
    "        print('*',end=\" \") # end=\" \" keeps all the printing on one line\n",
    "    print() # this is the return and gives the next row \n"
   ]
  },
  {
   "cell_type": "code",
   "execution_count": 4,
   "metadata": {},
   "outputs": [
    {
     "name": "stdout",
     "output_type": "stream",
     "text": [
      "10\n",
      "**********\n",
      "*********\n",
      "********\n",
      "*******\n",
      "******\n",
      "*****\n",
      "****\n",
      "***\n",
      "**\n",
      "*\n"
     ]
    }
   ],
   "source": [
    "# We will print an upsidedown triangle now\n",
    "# A little bit different approach which is smaller and faster\n",
    "# use range function like before\n",
    "# use the step of -1\n",
    "# this walks from n to 0 [n, n -1, .... 0]\n",
    "# create a string by multiplying the * by i\n",
    "n = int(input())\n",
    "for i in range(n, 0, -1):\n",
    "    print('*' * i)"
   ]
  },
  {
   "cell_type": "code",
   "execution_count": 5,
   "metadata": {},
   "outputs": [
    {
     "name": "stdout",
     "output_type": "stream",
     "text": [
      "4\n",
      "*******\n",
      " *****\n",
      "  ***\n",
      "   *\n"
     ]
    }
   ],
   "source": [
    "import sys\n",
    "# we need the sys libray to help with printing\n",
    "# Let's try other types of triangles\n",
    "'''\n",
    "* * * * *\n",
    " * * * *\n",
    "   * * *\n",
    "    * *\n",
    "     *\n",
    "'''\n",
    "n = int(input())\n",
    "for i in range(n, 0, -1):\n",
    "    for j in range(n -i):\n",
    "        sys.stdout.write(' ') # add the indent\n",
    "    for j in range(2 * i - 1):\n",
    "        sys.stdout.write('*') # add the *\n",
    "    print() # Starts a new row"
   ]
  },
  {
   "cell_type": "code",
   "execution_count": 6,
   "metadata": {},
   "outputs": [
    {
     "name": "stdout",
     "output_type": "stream",
     "text": [
      "7\n",
      "1 \n",
      "1 2 \n",
      "1 2 3 \n",
      "1 2 3 4 \n",
      "1 2 3 4 5 \n",
      "1 2 3 4 5 6 \n",
      "1 2 3 4 5 6 7 \n"
     ]
    }
   ],
   "source": [
    "# Printing numbers\n",
    "n = int(input())\n",
    "for i in range(1, n + 1):\n",
    "    for j in range(1, i + 1, 1):\n",
    "        print(j, end = \" \")\n",
    "    print()"
   ]
  },
  {
   "cell_type": "code",
   "execution_count": 7,
   "metadata": {},
   "outputs": [
    {
     "name": "stdout",
     "output_type": "stream",
     "text": [
      "5\n",
      "1 \n",
      "2 1 \n",
      "3 2 1 \n",
      "4 3 2 1 \n",
      "5 4 3 2 1 \n"
     ]
    }
   ],
   "source": [
    "# Printing numbers\n",
    "# Lets print numbers in reverse order\n",
    "n = int(input())\n",
    "for i in range(1, n + 1): # n is the last number we want\n",
    "    for g in range(i, 0, -1):\n",
    "        print(g, end=\" \")\n",
    "    print()"
   ]
  },
  {
   "cell_type": "code",
   "execution_count": 8,
   "metadata": {},
   "outputs": [
    {
     "name": "stdout",
     "output_type": "stream",
     "text": [
      "List day  Monday\n",
      "List day  Tuesday\n",
      "List day  Wednesday\n",
      "List day  Thursday\n",
      "List day  Friday\n",
      "List day  Saturday\n",
      "List day  Sunday\n",
      "Set Day:  Monday\n",
      "Set Day:  Thursday\n",
      "Set Day:  Sunday\n",
      "Set Day:  Wednesday\n",
      "Set Day:  Saturday\n",
      "Set Day:  Tuesday\n",
      "Set Day:  Friday\n"
     ]
    }
   ],
   "source": [
    "# Looping over a collection of values\n",
    "days = ['Monday', 'Tuesday', 'Wednesday', \n",
    "        'Thursday', 'Friday', 'Saturday', 'Sunday']\n",
    "for day in days:\n",
    "    print(\"List day \", day)\n",
    "    \n",
    "# However if the data is in a set then the output may differ\n",
    "days = set(['Monday', 'Tuesday', 'Wednesday', \n",
    "        'Thursday', 'Friday', 'Saturday', 'Sunday'])\n",
    "for day in days:\n",
    "    print(\"Set Day: \", day)"
   ]
  },
  {
   "cell_type": "code",
   "execution_count": 9,
   "metadata": {},
   "outputs": [
    {
     "name": "stdout",
     "output_type": "stream",
     "text": [
      "mon  is the key for  Monday\n",
      "tue  is the key for  Tuesday\n",
      "wed  is the key for  Wednesday\n",
      "thu  is the key for  Thursday\n",
      "fri  is the key for  Friday\n",
      "sat  is the key for  Saturday\n",
      "sun  is the key for  Sunday\n"
     ]
    }
   ],
   "source": [
    "# Looping over a set of keys\n",
    "days = {'mon': 'Monday', 'tue': 'Tuesday', 'wed': 'Wednesday', 'thu': 'Thursday', 'fri': 'Friday', 'sat': 'Saturday','sun': 'Sunday'}\n",
    "for day in days:\n",
    "    print(day, ' is the key for ', days[day])"
   ]
  },
  {
   "cell_type": "code",
   "execution_count": null,
   "metadata": {},
   "outputs": [],
   "source": []
  }
 ],
 "metadata": {
  "kernelspec": {
   "display_name": "Python 3",
   "language": "python",
   "name": "python3"
  },
  "language_info": {
   "codemirror_mode": {
    "name": "ipython",
    "version": 3
   },
   "file_extension": ".py",
   "mimetype": "text/x-python",
   "name": "python",
   "nbconvert_exporter": "python",
   "pygments_lexer": "ipython3",
   "version": "3.7.3"
  }
 },
 "nbformat": 4,
 "nbformat_minor": 2
}
