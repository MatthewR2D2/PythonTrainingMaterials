{
 "cells": [
  {
   "cell_type": "markdown",
   "metadata": {},
   "source": [
    "While loops are similar to for loops, but work until a condition is met. Normally True or false"
   ]
  },
  {
   "cell_type": "code",
   "execution_count": 1,
   "metadata": {},
   "outputs": [
    {
     "name": "stdout",
     "output_type": "stream",
     "text": [
      "5\n",
      "4\n",
      "3\n",
      "2\n",
      "1\n",
      "0\n"
     ]
    }
   ],
   "source": [
    "# Basic Example \n",
    "# Loop over until n = 0 then break\n",
    "n = int(input())\n",
    "while n > 0:\n",
    "    n -=1\n",
    "    print(n)"
   ]
  },
  {
   "cell_type": "code",
   "execution_count": 2,
   "metadata": {},
   "outputs": [
    {
     "name": "stdout",
     "output_type": "stream",
     "text": [
      "24567\n",
      "While loop count  5\n",
      "For loop result  5\n"
     ]
    }
   ],
   "source": [
    "# Count the number of digits in a number\n",
    "n = int(input())\n",
    "while_n = n\n",
    "results = 0 # number of char counter\n",
    "while while_n > 0:\n",
    "    while_n = while_n//10\n",
    "    results += 1\n",
    "print(\"While loop count \", results)\n",
    "\n",
    "# Same thing in for loop\n",
    "# Convert to string\n",
    "n = str(n)\n",
    "for_count = 0\n",
    "for char in n:\n",
    "    for_count +=1\n",
    "print(\"For loop result \", for_count)\n",
    "# The while loop is more optimal"
   ]
  },
  {
   "cell_type": "code",
   "execution_count": 3,
   "metadata": {},
   "outputs": [
    {
     "name": "stdout",
     "output_type": "stream",
     "text": [
      "Inside While loop\n",
      "Inside While loop\n",
      "Inside While loop\n",
      "Exited while loop and inside else statment\n"
     ]
    }
   ],
   "source": [
    "# While loop with else statment\n",
    "counter = 0\n",
    "while counter < 3:\n",
    "    print(\"Inside While loop\")\n",
    "    counter +=1\n",
    "else:\n",
    "    print(\"Exited while loop and inside else statment\")\n"
   ]
  },
  {
   "cell_type": "code",
   "execution_count": 4,
   "metadata": {},
   "outputs": [
    {
     "name": "stdout",
     "output_type": "stream",
     "text": [
      "Working: Count =  0\n",
      "Working: Count =  1\n",
      "Working: Count =  2\n",
      "Working: Count =  3\n",
      "Working: Count =  4\n",
      "Working: Count =  5\n",
      "Breaking while loop\n"
     ]
    }
   ],
   "source": [
    "# Break example\n",
    "count = 0\n",
    "while count < 1000:\n",
    "    print(\"Working: Count = \", count)\n",
    "    if count == 5:\n",
    "        print(\"Breaking while loop\")\n",
    "        break\n",
    "    count +=1"
   ]
  },
  {
   "cell_type": "code",
   "execution_count": 5,
   "metadata": {},
   "outputs": [
    {
     "name": "stdout",
     "output_type": "stream",
     "text": [
      "While loop:  10\n",
      "While loop:  9\n",
      "While loop:  8\n",
      "While loop:  7\n",
      "While loop:  6\n",
      "outside of while loop\n"
     ]
    }
   ],
   "source": [
    "# Continue in while loop\n",
    "min_number = 5\n",
    "count = 10\n",
    "while True: # This sets up a infinite loop until it is false\n",
    "    print(\"While loop: \", count)\n",
    "    count -=1\n",
    "    if count > min_number:\n",
    "        continue # This will send execution back to the start of the while loop\n",
    "    break # This wont break until the if is not true\n",
    "\n",
    "print(\"outside of while loop\")\n",
    "        "
   ]
  },
  {
   "cell_type": "code",
   "execution_count": null,
   "metadata": {},
   "outputs": [],
   "source": []
  }
 ],
 "metadata": {
  "kernelspec": {
   "display_name": "Python 3",
   "language": "python",
   "name": "python3"
  },
  "language_info": {
   "codemirror_mode": {
    "name": "ipython",
    "version": 3
   },
   "file_extension": ".py",
   "mimetype": "text/x-python",
   "name": "python",
   "nbconvert_exporter": "python",
   "pygments_lexer": "ipython3",
   "version": "3.7.3"
  }
 },
 "nbformat": 4,
 "nbformat_minor": 2
}
