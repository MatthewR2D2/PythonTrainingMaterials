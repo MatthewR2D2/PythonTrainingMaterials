{
 "cells": [
  {
   "cell_type": "code",
   "execution_count": 1,
   "metadata": {},
   "outputs": [],
   "source": [
    "def solution(N):\n",
    "    # First translate it to binary.\n",
    "    # Then strip all leading and training 0\n",
    "    # Then split by 1 which will give you arrays of 0s\n",
    "    # Then count the len of each array\n",
    "    xs = bin(N)[2:].strip('0').split('1')\n",
    "    return max([len(x) for x in xs])"
   ]
  },
  {
   "cell_type": "code",
   "execution_count": 2,
   "metadata": {},
   "outputs": [],
   "source": [
    "t1 = 1041\n",
    "t2 = 15\n",
    "t3 = 32"
   ]
  },
  {
   "cell_type": "code",
   "execution_count": 6,
   "metadata": {},
   "outputs": [
    {
     "name": "stdout",
     "output_type": "stream",
     "text": [
      "5\n",
      "0\n",
      "0\n",
      "2\n",
      "28\n"
     ]
    }
   ],
   "source": [
    "print(solution(t1))\n",
    "print(solution(t2))\n",
    "print(solution(t3))\n",
    "print(solution(101))\n",
    "print(solution(1610612737))"
   ]
  },
  {
   "cell_type": "code",
   "execution_count": null,
   "metadata": {},
   "outputs": [],
   "source": []
  }
 ],
 "metadata": {
  "kernelspec": {
   "display_name": "Python 3",
   "language": "python",
   "name": "python3"
  },
  "language_info": {
   "codemirror_mode": {
    "name": "ipython",
    "version": 3
   },
   "file_extension": ".py",
   "mimetype": "text/x-python",
   "name": "python",
   "nbconvert_exporter": "python",
   "pygments_lexer": "ipython3",
   "version": "3.7.3"
  }
 },
 "nbformat": 4,
 "nbformat_minor": 2
}
