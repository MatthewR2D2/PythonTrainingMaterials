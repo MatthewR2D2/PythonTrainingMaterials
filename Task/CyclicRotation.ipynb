{
 "cells": [
  {
   "cell_type": "code",
   "execution_count": 1,
   "metadata": {},
   "outputs": [],
   "source": [
    "# Rotate an array to the right by a given number of steps.\n",
    "def solution(A, K):\n",
    "    if not A:\n",
    "        return A\n",
    "    if K == 0:\n",
    "        return A\n",
    "    K = -K % len(A) #Find the splitting index\n",
    "    return A[K:] + A[:K]\n",
    "\n",
    "# Old traditional method for solving it\n",
    "def solution2(A,K):\n",
    "    if not A:\n",
    "        return A\n",
    "    if K == 0:\n",
    "        return A\n",
    "    old = A\n",
    "    new = [0]* len(A) # Array of all 0\n",
    "    for i in range(K):\n",
    "        new[0] = old[-1] # Grab the last number of old and put it into the first number of new\n",
    "        new[1:] = old[:-1] # grab all the other number except the last number of old\n",
    "        old = new.copy() # Replace the old array with the new\n",
    "    return new\n",
    "\n",
    "'''\n",
    "# This will not work for N length arrays\n",
    "That is why you add K = -K % len(A)\n",
    "for infinatly long arrays\n",
    "'''\n",
    "def solution3(A,K):\n",
    "    if not A:\n",
    "        return A\n",
    "    if K == 0:\n",
    "        return A\n",
    "    return A[-K:]+ A[:-K]\n",
    "\n",
    "import collections\n",
    "def solution4(A,K):\n",
    "    if not A:\n",
    "        return A\n",
    "    if K == 0:\n",
    "        return A\n",
    "    d = collections.deque(A)\n",
    "    d.rotate(K)\n",
    "    return d"
   ]
  },
  {
   "cell_type": "code",
   "execution_count": 2,
   "metadata": {},
   "outputs": [],
   "source": [
    "A = [3, 8, 9, 7, 6]\n",
    "K = 3"
   ]
  },
  {
   "cell_type": "code",
   "execution_count": 3,
   "metadata": {},
   "outputs": [
    {
     "name": "stdout",
     "output_type": "stream",
     "text": [
      "[9, 7, 6, 3, 8]\n",
      "[9, 7, 6, 3, 8]\n",
      "[9, 7, 6, 3, 8]\n",
      "deque([9, 7, 6, 3, 8])\n"
     ]
    }
   ],
   "source": [
    "print(solution(A, K))\n",
    "print(solution2(A, K))\n",
    "print(solution3(A,K))\n",
    "print(solution4(A,K))\n",
    "        "
   ]
  },
  {
   "cell_type": "code",
   "execution_count": null,
   "metadata": {},
   "outputs": [],
   "source": []
  }
 ],
 "metadata": {
  "kernelspec": {
   "display_name": "Python 3",
   "language": "python",
   "name": "python3"
  },
  "language_info": {
   "codemirror_mode": {
    "name": "ipython",
    "version": 3
   },
   "file_extension": ".py",
   "mimetype": "text/x-python",
   "name": "python",
   "nbconvert_exporter": "python",
   "pygments_lexer": "ipython3",
   "version": "3.7.3"
  }
 },
 "nbformat": 4,
 "nbformat_minor": 2
}
