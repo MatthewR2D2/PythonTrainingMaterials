{
 "cells": [
  {
   "cell_type": "code",
   "execution_count": 1,
   "metadata": {},
   "outputs": [],
   "source": [
    "# Find the minimum sum of two subsets of python\n",
    "A = [3, 1, 2, 4, 3]"
   ]
  },
  {
   "cell_type": "code",
   "execution_count": 2,
   "metadata": {},
   "outputs": [],
   "source": [
    "def solution(A):\n",
    "    min_sum = None\n",
    "    for i in range(len(A)):\n",
    "        a = A[:i]\n",
    "        b = A[i:]\n",
    "        current_sum = abs(sum(a)-sum(b))\n",
    "        if min_sum == None:\n",
    "            min_sum = current_sum\n",
    "        elif current_sum < min_sum:\n",
    "            min_sum = current_sum\n",
    "    return min_sum\n",
    "        "
   ]
  },
  {
   "cell_type": "code",
   "execution_count": 3,
   "metadata": {},
   "outputs": [],
   "source": [
    "# Better Time complexity\n",
    "def solution2(A):\n",
    "    s = sum(A)\n",
    "    min_sum = float('inf')\n",
    "    left_sum = 0\n",
    "    for i in A[:-1]:\n",
    "        left_sum +=i\n",
    "        min_sum = min(abs(s -2*left_sum), min_sum)\n",
    "    return min_sum"
   ]
  },
  {
   "cell_type": "code",
   "execution_count": 5,
   "metadata": {},
   "outputs": [],
   "source": [
    "def solution3(A):\n",
    "    min_sum = float('inf')\n",
    "    check = A[0]\n",
    "    total = sum(A) - check\n",
    "    for i in range(1, len(A)):\n",
    "        diff = abs(check - total)\n",
    "        total -= A[i]\n",
    "        check += A[i]\n",
    "        if diff < min_sum:\n",
    "            min_sum = diff\n",
    "    return min_sum"
   ]
  },
  {
   "cell_type": "code",
   "execution_count": 6,
   "metadata": {},
   "outputs": [
    {
     "name": "stdout",
     "output_type": "stream",
     "text": [
      "1\n",
      "1\n",
      "1\n"
     ]
    }
   ],
   "source": [
    "print(solution(A))\n",
    "print(solution2(A))\n",
    "print(solution3(A))"
   ]
  },
  {
   "cell_type": "code",
   "execution_count": null,
   "metadata": {},
   "outputs": [],
   "source": []
  }
 ],
 "metadata": {
  "kernelspec": {
   "display_name": "Python 3",
   "language": "python",
   "name": "python3"
  },
  "language_info": {
   "codemirror_mode": {
    "name": "ipython",
    "version": 3
   },
   "file_extension": ".py",
   "mimetype": "text/x-python",
   "name": "python",
   "nbconvert_exporter": "python",
   "pygments_lexer": "ipython3",
   "version": "3.7.3"
  }
 },
 "nbformat": 4,
 "nbformat_minor": 2
}
