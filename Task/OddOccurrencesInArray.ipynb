{
 "cells": [
  {
   "cell_type": "code",
   "execution_count": 1,
   "metadata": {},
   "outputs": [],
   "source": [
    "# Find value that occurs in odd number of elements.\n",
    "# Misses some answers\n",
    "def solution(A):\n",
    "    for i in range(len(A)):\n",
    "        if i == 0:\n",
    "            if A[i] not in A[i:]:\n",
    "                return A[i]\n",
    "        else:\n",
    "            if A[i] not in A[i+1:] and A[i] not in A[:i-1]:\n",
    "                return A[i]\n",
    "    \n",
    "def solution2(A):\n",
    "    missing_value = 0\n",
    "    for value in A:\n",
    "        # A xor A cancels itself and B xor 0 is B. Therefore A xor A xor B xor C xor C is B.\n",
    "        missing_value ^= value\n",
    "    return missing_value\n",
    "\n",
    "def solution3(A):\n",
    "    n = len(A)\n",
    "    for i in range(n):\n",
    "        j = 0\n",
    "        while j<n:\n",
    "            if i != j and A[i] == A[j]:\n",
    "                break\n",
    "            j +=1\n",
    "        if j==n:\n",
    "            return A[i]\n",
    "    return -1\n",
    "\n",
    "# using collection\n",
    "from collections import defaultdict\n",
    "def solution4(A):\n",
    "    mp = defaultdict(lambda:0)\n",
    "    n = len(A)\n",
    "    \n",
    "    # Insert array into a hash table\n",
    "    for i in range(n):\n",
    "        mp[A[i]] +=1\n",
    "    \n",
    "    # Loop over arra and return first element with count of 1\n",
    "    for i in range(n):\n",
    "        if mp[A[i]] == 1:\n",
    "            return A[i]\n",
    "    return -1"
   ]
  },
  {
   "cell_type": "code",
   "execution_count": 2,
   "metadata": {},
   "outputs": [],
   "source": [
    "A = [2, 2, 3, 3, 4]\n",
    "B = [9, 3, 9, 3 , 9 , 7, 9]"
   ]
  },
  {
   "cell_type": "code",
   "execution_count": 3,
   "metadata": {},
   "outputs": [
    {
     "name": "stdout",
     "output_type": "stream",
     "text": [
      "2\n",
      "7\n",
      "4\n",
      "7\n",
      "4\n",
      "7\n",
      "4\n",
      "7\n"
     ]
    }
   ],
   "source": [
    "print(solution(A)) # Fails\n",
    "print(solution(B))\n",
    "print(solution2(A))\n",
    "print(solution2(B))\n",
    "print(solution3(A))\n",
    "print(solution3(B))\n",
    "print(solution4(A))\n",
    "print(solution4(B))"
   ]
  },
  {
   "cell_type": "code",
   "execution_count": null,
   "metadata": {},
   "outputs": [],
   "source": []
  }
 ],
 "metadata": {
  "kernelspec": {
   "display_name": "Python 3",
   "language": "python",
   "name": "python3"
  },
  "language_info": {
   "codemirror_mode": {
    "name": "ipython",
    "version": 3
   },
   "file_extension": ".py",
   "mimetype": "text/x-python",
   "name": "python",
   "nbconvert_exporter": "python",
   "pygments_lexer": "ipython3",
   "version": "3.7.3"
  }
 },
 "nbformat": 4,
 "nbformat_minor": 2
}
